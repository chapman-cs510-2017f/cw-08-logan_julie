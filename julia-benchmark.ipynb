{
 "cells": [
  {
   "cell_type": "code",
   "execution_count": 1,
   "metadata": {
    "collapsed": false
   },
   "outputs": [
   ],
   "source": [
    "from cplane_julia import JuliaPlane"
   ]
  },
  {
   "cell_type": "code",
   "execution_count": 2,
   "metadata": {
    "collapsed": false
   },
   "outputs": [
   ],
   "source": [
    "myPlane = JuliaPlane(0)"
   ]
  },
  {
   "cell_type": "code",
   "execution_count": 3,
   "metadata": {
    "collapsed": false
   },
   "outputs": [
    {
     "name": "stdout",
     "output_type": "stream",
     "text": [
      "CPU times: user 32.3 s, sys: 772 ms, total: 33 s\n",
      "Wall time: 33.6 s\n"
     ]
    }
   ],
   "source": [
    "%time myPlane.refresh(0.5j)"
   ]
  },
  {
   "cell_type": "markdown",
   "metadata": {
    "collapsed": false
   },
   "source": [
    "We computed the time it took to refresh a 2000 by 2000 `JuliaPlane` instance without the numba decorator, resulting in the following time:\n",
    "\n",
    "`CPU times: user 32.3 s, sys: 772 ms, total: 33 s` <br>\n",
    "`Wall time: 33.6 s`"
   ]
  },
  {
   "cell_type": "code",
   "execution_count": 2,
   "metadata": {
    "collapsed": false
   },
   "outputs": [
   ],
   "source": [
    "myPlane = JuliaPlane(0)"
   ]
  },
  {
   "cell_type": "code",
   "execution_count": 3,
   "metadata": {
    "collapsed": false
   },
   "outputs": [
    {
     "name": "stdout",
     "output_type": "stream",
     "text": [
      "CPU times: user 1.14 s, sys: 476 ms, total: 1.62 s\n",
      "Wall time: 1.67 s\n"
     ]
    }
   ],
   "source": [
    "%time myPlane.refresh(0.5j)"
   ]
  },
  {
   "cell_type": "markdown",
   "metadata": {
    "collapsed": false
   },
   "source": [
    "We computed the time it took to refresh a 2000 by 2000 JuliaPlane instance without the numba decorator, resulting in the following time:\n",
    "\n",
    "`CPU times: user 1.14 s, sys: 476 ms, total: 1.62 s` <br>\n",
    "`Wall time: 1.67 s`"
   ]
  }
 ],
 "metadata": {
  "kernelspec": {
   "display_name": "Python 3 (Anaconda)",
   "language": "python",
   "name": "anaconda3"
  },
  "language_info": {
   "codemirror_mode": {
    "name": "ipython",
    "version": 3
   },
   "file_extension": ".py",
   "mimetype": "text/x-python",
   "name": "python",
   "nbconvert_exporter": "python",
   "pygments_lexer": "ipython3",
   "version": "3.5.4"
  }
 },
 "nbformat": 4,
 "nbformat_minor": 0
}