{
 "cells": [
  {
   "cell_type": "markdown",
   "metadata": {
    "collapsed": false
   },
   "source": [
    "## Learn Julia ##"
   ]
  },
  {
   "cell_type": "markdown",
   "metadata": {
    "collapsed": false
   },
   "source": [
    "Name: Julie Gardner-Hoag, Logan Gantner\n",
    "\n",
    "Student ID: 2299636, 2307470\n",
    "\n",
    "Email: gardnerh@chapman.edu, gantner@chapman.edu\n",
    "\n",
    "Course: CS510 Fall 2017\n",
    "\n",
    "Assignment: Classwork 8"
   ]
  },
  {
   "cell_type": "markdown",
   "metadata": {
    "collapsed": false
   },
   "source": [
    "### 1. What is the julia syntax for the following? comments, variable declarations, printing output ###"
   ]
  },
  {
   "cell_type": "code",
   "execution_count": 14,
   "metadata": {
    "collapsed": false
   },
   "outputs": [
    {
     "name": "stdout",
     "output_type": "stream",
     "text": [
      "2"
     ]
    }
   ],
   "source": [
    "#comment\n",
    "x = 2\n",
    "print(x)"
   ]
  },
  {
   "cell_type": "markdown",
   "metadata": {
    "collapsed": false
   },
   "source": [
    "The syntax for these are the same as we've seen before in Matlab and Python."
   ]
  },
  {
   "cell_type": "markdown",
   "metadata": {
    "collapsed": false
   },
   "source": [
    "### 2. What are the basic julia data types?  How do you define and use them? ###"
   ]
  },
  {
   "cell_type": "markdown",
   "metadata": {
    "collapsed": false
   },
   "source": [
    "The basic julia data types are integers, floats, strings, arrays, dictionaries, and tuples. Arrays act as lists in Julia: it supports mixed types of data. Julia is dynamic. It can determine the type from the context."
   ]
  },
  {
   "cell_type": "code",
   "execution_count": 47,
   "metadata": {
    "collapsed": false
   },
   "outputs": [
    {
     "name": "stdout",
     "output_type": "stream",
     "text": [
      "Dict{String,Any}(Pair{String,Any}(\"name\", \"Frodo\"),Pair{String,Any}(\"age\", 33))\n",
      "[10, 20, 30, 40]\n",
      "0.7999999999999998"
     ]
    }
   ],
   "source": [
    "#An example of a dictionary\n",
    "d = Dict(\"name\" => \"Frodo\", \"age\" => 33)\n",
    "print(d)\n",
    "println(\"\")\n",
    "\n",
    "#An example of an array\n",
    "x = [10, 20, 30, 40]\n",
    "print(x)\n",
    "println(\"\")\n",
    "\n",
    "#Examples of integers and floats\n",
    "a = Int32(-2)\n",
    "b = Float64(2.8)\n",
    "print(a+b)"
   ]
  },
  {
   "cell_type": "markdown",
   "metadata": {
    "collapsed": false
   },
   "source": [
    "### 3. What basic control structures are available in julia? (for, while, etc.) ###"
   ]
  },
  {
   "cell_type": "markdown",
   "metadata": {
    "collapsed": false
   },
   "source": [
    "Julia has most of the normal basic control structures; for, while, if-else, and try-catch. In addition to these, it also has compount expressions (begin) and short-circuit evaluations. The notation for the basic control structures for, while,... are just like we've seen in Matlab."
   ]
  },
  {
   "cell_type": "code",
   "execution_count": 48,
   "metadata": {
    "collapsed": false
   },
   "outputs": [
    {
     "name": "stdout",
     "output_type": "stream",
     "text": [
      "x is less than y\n"
     ]
    }
   ],
   "source": [
    "#Example of if-else\n",
    "x = 2\n",
    "y = 4\n",
    "if x < y\n",
    "    println(\"x is less than y\")\n",
    "elseif x>y\n",
    "    println(\"x is greater than y\")\n",
    "else\n",
    "    println(\"x is equal to y\")\n",
    "end"
   ]
  },
  {
   "cell_type": "code",
   "execution_count": 49,
   "metadata": {
    "collapsed": false
   },
   "outputs": [
    {
     "name": "stdout",
     "output_type": "stream",
     "text": [
      "1\n",
      "2\n",
      "3\n",
      "4\n",
      "5\n"
     ]
    }
   ],
   "source": [
    "#Example of a while loop\n",
    "i = 1;\n",
    "while i<= 5\n",
    "    println(i)\n",
    "    i+=1\n",
    "end"
   ]
  },
  {
   "cell_type": "code",
   "execution_count": 50,
   "metadata": {
    "collapsed": false
   },
   "outputs": [
    {
     "name": "stdout",
     "output_type": "stream",
     "text": [
      "1\n",
      "2\n",
      "3\n",
      "4\n",
      "5\n"
     ]
    }
   ],
   "source": [
    "#Example of a for loop\n",
    "for i = 1:5\n",
    "    println(i)\n",
    "end"
   ]
  },
  {
   "cell_type": "code",
   "execution_count": 51,
   "metadata": {
    "collapsed": false
   },
   "outputs": [
    {
     "data": {
      "text/plain": [
       "3"
      ]
     },
     "execution_count": 51,
     "metadata": {
     },
     "output_type": "execute_result"
    }
   ],
   "source": [
    "#Compound Expression\n",
    "z = begin\n",
    "    x = 1\n",
    "    y = 2\n",
    "    x + y\n",
    "end"
   ]
  },
  {
   "cell_type": "code",
   "execution_count": 57,
   "metadata": {
    "collapsed": false
   },
   "outputs": [
    {
     "name": "stdout",
     "output_type": "stream",
     "text": [
      "Hello\n"
     ]
    }
   ],
   "source": [
    "#Short Circuit\n",
    "x = true;\n",
    "y = false;\n",
    "x && println(\"Hello\");\n",
    "y && println(\"Goodbye\");"
   ]
  },
  {
   "cell_type": "code",
   "execution_count": 56,
   "metadata": {
    "collapsed": false
   },
   "outputs": [
    {
     "name": "stdout",
     "output_type": "stream",
     "text": [
      "Goodbye\n"
     ]
    }
   ],
   "source": [
    "x = true;\n",
    "y = false;\n",
    "x || println(\"Hello\");\n",
    "y || println(\"Goodbye\");"
   ]
  },
  {
   "cell_type": "markdown",
   "metadata": {
    "collapsed": false
   },
   "source": [
    "### 4. What are some notable differences between Python and julia?  What are some notable similarities? ###"
   ]
  },
  {
   "cell_type": "markdown",
   "metadata": {
    "collapsed": false
   },
   "source": [
    "Some notable differences between Python and julia are \n",
    "Some similarities between Python and julia are the syntax for comments, variable declarations and printing output."
   ]
  },
  {
   "cell_type": "code",
   "execution_count": 60,
   "metadata": {
    "collapsed": false
   },
   "outputs": [
    {
     "data": {
      "text/plain": [
       "firstn_fib (generic function with 1 method)"
      ]
     },
     "execution_count": 60,
     "metadata": {
     },
     "output_type": "execute_result"
    }
   ],
   "source": [
    "function fib(n)\n",
    "    n <= 1 && return 1\n",
    "    return fib(n-1)+fib(n-2)\n",
    "end\n",
    "\n",
    "function firstn_fib(n)\n",
    "    for i = 0:(n-1)\n",
    "        print(fib(i), \" \")\n",
    "    end\n",
    "end"
   ]
  },
  {
   "cell_type": "code",
   "execution_count": 62,
   "metadata": {
    "collapsed": false
   },
   "outputs": [
    {
     "name": "stdout",
     "output_type": "stream",
     "text": [
      "1 1 2 3 5 8 13 21 34 55 89 144 233 377 610 987 1597 2584 4181 6765 10946 17711 28657 46368 75025 121393 196418 317811 514229 832040 1346269 2178309 3524578 "
     ]
    },
    {
     "name": "stdout",
     "output_type": "stream",
     "text": [
      "5702887 9227465 "
     ]
    },
    {
     "name": "stdout",
     "output_type": "stream",
     "text": [
      "14930352 "
     ]
    },
    {
     "name": "stdout",
     "output_type": "stream",
     "text": [
      "24157817 "
     ]
    },
    {
     "name": "stdout",
     "output_type": "stream",
     "text": [
      "39088169 "
     ]
    },
    {
     "name": "stdout",
     "output_type": "stream",
     "text": [
      "63245986 "
     ]
    },
    {
     "name": "stdout",
     "output_type": "stream",
     "text": [
      "102334155 "
     ]
    },
    {
     "name": "stdout",
     "output_type": "stream",
     "text": [
      "165580141 "
     ]
    },
    {
     "name": "stdout",
     "output_type": "stream",
     "text": [
      "267914296 "
     ]
    },
    {
     "name": "stdout",
     "output_type": "stream",
     "text": [
      "433494437 "
     ]
    },
    {
     "name": "stdout",
     "output_type": "stream",
     "text": [
      "701408733 "
     ]
    },
    {
     "ename": "LoadError",
     "evalue": "\u001b[91mInterruptException:\u001b[39m",
     "output_type": "error",
     "traceback": [
      "\u001b[91mInterruptException:\u001b[39m",
      "",
      "Stacktrace:",
      " [1] \u001b[1mfirstn_fib\u001b[22m\u001b[22m\u001b[1m(\u001b[22m\u001b[22m::Int64\u001b[1m)\u001b[22m\u001b[22m at \u001b[1m./In[60]:8\u001b[22m\u001b[22m",
      " [2] \u001b[1minclude_string\u001b[22m\u001b[22m\u001b[1m(\u001b[22m\u001b[22m::String, ::String\u001b[1m)\u001b[22m\u001b[22m at \u001b[1m./loading.jl:515\u001b[22m\u001b[22m"
     ]
    }
   ],
   "source": [
    "firstn_fib(100)"
   ]
  },
  {
   "cell_type": "code",
   "execution_count": 0,
   "metadata": {
    "collapsed": false
   },
   "outputs": [
   ],
   "source": [
   ]
  }
 ],
 "metadata": {
  "kernelspec": {
   "display_name": "Julia",
   "language": "julia",
   "name": "julia"
  },
  "language_info": {
   "file_extension": ".jl",
   "mimetype": "application/julia",
   "name": "julia",
   "version": "0.6.0"
  }
 },
 "nbformat": 4,
 "nbformat_minor": 0
}